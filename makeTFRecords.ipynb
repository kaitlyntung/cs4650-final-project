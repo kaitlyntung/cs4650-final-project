{
 "cells": [
  {
   "cell_type": "code",
   "execution_count": 1,
   "metadata": {},
   "outputs": [],
   "source": [
    "baseDir = '/Users/kaitlyntung/Dropbox (Personal)/Mac (2)/Desktop/cs4650-final-project'\n",
    "\n",
    "import os\n",
    "os.makedirs(baseDir+'/data/competitionData', exist_ok=True)"
   ]
  },
  {
   "cell_type": "code",
   "execution_count": 8,
   "metadata": {},
   "outputs": [
    {
     "ename": "ModuleNotFoundError",
     "evalue": "No module named 'neuralDecoder'",
     "output_type": "error",
     "traceback": [
      "\u001b[0;31m---------------------------------------------------------------------------\u001b[0m",
      "\u001b[0;31mModuleNotFoundError\u001b[0m                       Traceback (most recent call last)",
      "Cell \u001b[0;32mIn[8], line 1\u001b[0m\n\u001b[0;32m----> 1\u001b[0m \u001b[38;5;28;01mfrom\u001b[39;00m\u001b[38;5;250m \u001b[39m\u001b[38;5;21;01mmakeTFRecordsFromSession\u001b[39;00m\u001b[38;5;250m \u001b[39m\u001b[38;5;28;01mimport\u001b[39;00m makeTFRecordsFromCompetitionFiles \n\u001b[1;32m      2\u001b[0m \u001b[38;5;28;01mfrom\u001b[39;00m\u001b[38;5;250m \u001b[39m\u001b[38;5;21;01mgetSpeechSessionBlocks\u001b[39;00m\u001b[38;5;250m \u001b[39m\u001b[38;5;28;01mimport\u001b[39;00m getSpeechSessionBlocks\n\u001b[1;32m      3\u001b[0m blockLists \u001b[38;5;241m=\u001b[39m getSpeechSessionBlocks()\n",
      "File \u001b[0;32m~/Dropbox (Personal)/Mac (2)/Desktop/cs4650-final-project/makeTFRecordsFromSession.py:9\u001b[0m\n\u001b[1;32m      7\u001b[0m \u001b[38;5;28;01mfrom\u001b[39;00m\u001b[38;5;250m \u001b[39m\u001b[38;5;21;01mg2p_en\u001b[39;00m\u001b[38;5;250m \u001b[39m\u001b[38;5;28;01mimport\u001b[39;00m G2p\n\u001b[1;32m      8\u001b[0m \u001b[38;5;28;01mimport\u001b[39;00m\u001b[38;5;250m \u001b[39m\u001b[38;5;21;01mre\u001b[39;00m\n\u001b[0;32m----> 9\u001b[0m \u001b[38;5;28;01mfrom\u001b[39;00m\u001b[38;5;250m \u001b[39m\u001b[38;5;21;01mneuralDecoder\u001b[39;00m\u001b[38;5;21;01m.\u001b[39;00m\u001b[38;5;21;01mdatasets\u001b[39;00m\u001b[38;5;21;01m.\u001b[39;00m\u001b[38;5;21;01mspeechDataset\u001b[39;00m\u001b[38;5;250m \u001b[39m\u001b[38;5;28;01mimport\u001b[39;00m PHONE_DEF, VOWEL_DEF, CONSONANT_DEF, SIL_DEF, PHONE_DEF_SIL\n\u001b[1;32m     11\u001b[0m \u001b[38;5;28;01mdef\u001b[39;00m\u001b[38;5;250m \u001b[39m\u001b[38;5;21mmakeTFRecordsFromCompetitionFiles\u001b[39m(sessionName, dataPath, tfRecordFolder):\n\u001b[1;32m     13\u001b[0m     partNames \u001b[38;5;241m=\u001b[39m [\u001b[38;5;124m'\u001b[39m\u001b[38;5;124mtrain\u001b[39m\u001b[38;5;124m'\u001b[39m,\u001b[38;5;124m'\u001b[39m\u001b[38;5;124mtest\u001b[39m\u001b[38;5;124m'\u001b[39m,\u001b[38;5;124m'\u001b[39m\u001b[38;5;124mcompetitionHoldOut\u001b[39m\u001b[38;5;124m'\u001b[39m]\n",
      "\u001b[0;31mModuleNotFoundError\u001b[0m: No module named 'neuralDecoder'"
     ]
    }
   ],
   "source": [
    "from makeTFRecordsFromSession import makeTFRecordsFromCompetitionFiles \n",
    "from getSpeechSessionBlocks import getSpeechSessionBlocks\n",
    "blockLists = getSpeechSessionBlocks()\n",
    "\n",
    "for sessIdx in range(len(blockLists)):\n",
    "    sessionName = blockLists[sessIdx][0]\n",
    "    dataPath = baseDir + '/competitionData'\n",
    "    tfRecordFolder = baseDir + '/derived/tfRecords/'+sessionName\n",
    "    makeTFRecordsFromCompetitionFiles(sessionName, dataPath, tfRecordFolder)"
   ]
  }
 ],
 "metadata": {
  "kernelspec": {
   "display_name": "speech_bci_env",
   "language": "python",
   "name": "python3"
  },
  "language_info": {
   "codemirror_mode": {
    "name": "ipython",
    "version": 3
   },
   "file_extension": ".py",
   "mimetype": "text/x-python",
   "name": "python",
   "nbconvert_exporter": "python",
   "pygments_lexer": "ipython3",
   "version": "3.9.21"
  }
 },
 "nbformat": 4,
 "nbformat_minor": 2
}
